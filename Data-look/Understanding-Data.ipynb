{
 "cells": [
  {
   "cell_type": "code",
   "execution_count": 2,
   "metadata": {},
   "outputs": [],
   "source": [
    "#Importing libraries\n",
    "\n",
    "import pandas as pd"
   ]
  },
  {
   "cell_type": "code",
   "execution_count": null,
   "metadata": {},
   "outputs": [],
   "source": [
    "Read Data"
   ]
  },
  {
   "cell_type": "code",
   "execution_count": 3,
   "metadata": {},
   "outputs": [],
   "source": [
    "df = pd.read_csv(\"mount_everest_deaths.csv\")"
   ]
  },
  {
   "cell_type": "code",
   "execution_count": 4,
   "metadata": {},
   "outputs": [
    {
     "data": {
      "text/plain": [
       "(310, 8)"
      ]
     },
     "execution_count": 4,
     "metadata": {},
     "output_type": "execute_result"
    }
   ],
   "source": [
    "#data-shape and look\n",
    "\n",
    "df.shape"
   ]
  },
  {
   "cell_type": "code",
   "execution_count": 5,
   "metadata": {},
   "outputs": [
    {
     "data": {
      "text/html": [
       "<div>\n",
       "<style scoped>\n",
       "    .dataframe tbody tr th:only-of-type {\n",
       "        vertical-align: middle;\n",
       "    }\n",
       "\n",
       "    .dataframe tbody tr th {\n",
       "        vertical-align: top;\n",
       "    }\n",
       "\n",
       "    .dataframe thead th {\n",
       "        text-align: right;\n",
       "    }\n",
       "</style>\n",
       "<table border=\"1\" class=\"dataframe\">\n",
       "  <thead>\n",
       "    <tr style=\"text-align: right;\">\n",
       "      <th></th>\n",
       "      <th>No.</th>\n",
       "      <th>Name</th>\n",
       "      <th>Date</th>\n",
       "      <th>Age</th>\n",
       "      <th>Expedition</th>\n",
       "      <th>Nationality</th>\n",
       "      <th>Cause of death</th>\n",
       "      <th>Location</th>\n",
       "    </tr>\n",
       "  </thead>\n",
       "  <tbody>\n",
       "    <tr>\n",
       "      <th>57</th>\n",
       "      <td>58</td>\n",
       "      <td>Blair Griffiths</td>\n",
       "      <td>September 2, 1982</td>\n",
       "      <td>33.0</td>\n",
       "      <td>Bill March Canadian Expedition</td>\n",
       "      <td>Canada</td>\n",
       "      <td>Crushed under serac</td>\n",
       "      <td>Icefall</td>\n",
       "    </tr>\n",
       "    <tr>\n",
       "      <th>95</th>\n",
       "      <td>96</td>\n",
       "      <td>Jaroslav Jaško</td>\n",
       "      <td>October 17, 1988</td>\n",
       "      <td>26.0</td>\n",
       "      <td>IAMES Bratislava Expedition</td>\n",
       "      <td>Czechoslovakia</td>\n",
       "      <td>Disappearance (likely accidental death during ...</td>\n",
       "      <td>8000m S.W. Ridge</td>\n",
       "    </tr>\n",
       "    <tr>\n",
       "      <th>113</th>\n",
       "      <td>114</td>\n",
       "      <td>Raymond Jacob</td>\n",
       "      <td>May 2, 1992</td>\n",
       "      <td>NaN</td>\n",
       "      <td>Indian expedition</td>\n",
       "      <td>India</td>\n",
       "      <td>Exposure</td>\n",
       "      <td>NaN</td>\n",
       "    </tr>\n",
       "    <tr>\n",
       "      <th>298</th>\n",
       "      <td>299</td>\n",
       "      <td>Nihal Bagwan</td>\n",
       "      <td>May 23, 2019</td>\n",
       "      <td>27.0</td>\n",
       "      <td>Peak Promotions</td>\n",
       "      <td>India</td>\n",
       "      <td>Exhaustion on descent</td>\n",
       "      <td>near South Col</td>\n",
       "    </tr>\n",
       "    <tr>\n",
       "      <th>305</th>\n",
       "      <td>306</td>\n",
       "      <td>Christopher Jon Kulish</td>\n",
       "      <td>May 27, 2019</td>\n",
       "      <td>62.0</td>\n",
       "      <td>Climbing the Seven Summits</td>\n",
       "      <td>United States</td>\n",
       "      <td>Cardiac event during descent</td>\n",
       "      <td>South Col</td>\n",
       "    </tr>\n",
       "    <tr>\n",
       "      <th>55</th>\n",
       "      <td>56</td>\n",
       "      <td>Dawa Dorje</td>\n",
       "      <td>August 31, 1982</td>\n",
       "      <td>42.0</td>\n",
       "      <td>Bill March Canadian Expedition</td>\n",
       "      <td>Nepal</td>\n",
       "      <td>Avalanche</td>\n",
       "      <td>Icefall</td>\n",
       "    </tr>\n",
       "    <tr>\n",
       "      <th>195</th>\n",
       "      <td>196</td>\n",
       "      <td>Lhakpa Tseri</td>\n",
       "      <td>April 21, 2006</td>\n",
       "      <td>NaN</td>\n",
       "      <td>American</td>\n",
       "      <td>Nepal</td>\n",
       "      <td>Avalanche</td>\n",
       "      <td>5900m Icefall</td>\n",
       "    </tr>\n",
       "  </tbody>\n",
       "</table>\n",
       "</div>"
      ],
      "text/plain": [
       "     No.                    Name               Date   Age  \\\n",
       "57    58         Blair Griffiths  September 2, 1982  33.0   \n",
       "95    96          Jaroslav Jaško   October 17, 1988  26.0   \n",
       "113  114           Raymond Jacob        May 2, 1992   NaN   \n",
       "298  299            Nihal Bagwan       May 23, 2019  27.0   \n",
       "305  306  Christopher Jon Kulish       May 27, 2019  62.0   \n",
       "55    56              Dawa Dorje    August 31, 1982  42.0   \n",
       "195  196            Lhakpa Tseri     April 21, 2006   NaN   \n",
       "\n",
       "                         Expedition     Nationality  \\\n",
       "57   Bill March Canadian Expedition          Canada   \n",
       "95      IAMES Bratislava Expedition  Czechoslovakia   \n",
       "113               Indian expedition           India   \n",
       "298                 Peak Promotions           India   \n",
       "305      Climbing the Seven Summits   United States   \n",
       "55   Bill March Canadian Expedition           Nepal   \n",
       "195                        American           Nepal   \n",
       "\n",
       "                                        Cause of death          Location  \n",
       "57                                 Crushed under serac           Icefall  \n",
       "95   Disappearance (likely accidental death during ...  8000m S.W. Ridge  \n",
       "113                                           Exposure               NaN  \n",
       "298                              Exhaustion on descent    near South Col  \n",
       "305                       Cardiac event during descent         South Col  \n",
       "55                                           Avalanche           Icefall  \n",
       "195                                          Avalanche     5900m Icefall  "
      ]
     },
     "execution_count": 5,
     "metadata": {},
     "output_type": "execute_result"
    }
   ],
   "source": [
    "df.sample(7)"
   ]
  },
  {
   "cell_type": "code",
   "execution_count": 6,
   "metadata": {},
   "outputs": [
    {
     "name": "stdout",
     "output_type": "stream",
     "text": [
      "<class 'pandas.core.frame.DataFrame'>\n",
      "RangeIndex: 310 entries, 0 to 309\n",
      "Data columns (total 8 columns):\n",
      " #   Column          Non-Null Count  Dtype  \n",
      "---  ------          --------------  -----  \n",
      " 0   No.             310 non-null    int64  \n",
      " 1   Name            310 non-null    object \n",
      " 2   Date            310 non-null    object \n",
      " 3   Age             160 non-null    float64\n",
      " 4   Expedition      271 non-null    object \n",
      " 5   Nationality     309 non-null    object \n",
      " 6   Cause of death  296 non-null    object \n",
      " 7   Location        291 non-null    object \n",
      "dtypes: float64(1), int64(1), object(6)\n",
      "memory usage: 19.5+ KB\n"
     ]
    }
   ],
   "source": [
    "#What is the data type of cols?\n",
    "\n",
    "df.info()"
   ]
  },
  {
   "cell_type": "code",
   "execution_count": 7,
   "metadata": {},
   "outputs": [
    {
     "data": {
      "text/plain": [
       "No.                 0\n",
       "Name                0\n",
       "Date                0\n",
       "Age               150\n",
       "Expedition         39\n",
       "Nationality         1\n",
       "Cause of death     14\n",
       "Location           19\n",
       "dtype: int64"
      ]
     },
     "execution_count": 7,
     "metadata": {},
     "output_type": "execute_result"
    }
   ],
   "source": [
    "#missing value check\n",
    "\n",
    "df.isnull().sum()"
   ]
  },
  {
   "cell_type": "code",
   "execution_count": 8,
   "metadata": {},
   "outputs": [
    {
     "data": {
      "text/html": [
       "<div>\n",
       "<style scoped>\n",
       "    .dataframe tbody tr th:only-of-type {\n",
       "        vertical-align: middle;\n",
       "    }\n",
       "\n",
       "    .dataframe tbody tr th {\n",
       "        vertical-align: top;\n",
       "    }\n",
       "\n",
       "    .dataframe thead th {\n",
       "        text-align: right;\n",
       "    }\n",
       "</style>\n",
       "<table border=\"1\" class=\"dataframe\">\n",
       "  <thead>\n",
       "    <tr style=\"text-align: right;\">\n",
       "      <th></th>\n",
       "      <th>No.</th>\n",
       "      <th>Age</th>\n",
       "    </tr>\n",
       "  </thead>\n",
       "  <tbody>\n",
       "    <tr>\n",
       "      <th>count</th>\n",
       "      <td>310.000000</td>\n",
       "      <td>160.000000</td>\n",
       "    </tr>\n",
       "    <tr>\n",
       "      <th>mean</th>\n",
       "      <td>155.500000</td>\n",
       "      <td>40.356250</td>\n",
       "    </tr>\n",
       "    <tr>\n",
       "      <th>std</th>\n",
       "      <td>89.633513</td>\n",
       "      <td>12.244545</td>\n",
       "    </tr>\n",
       "    <tr>\n",
       "      <th>min</th>\n",
       "      <td>1.000000</td>\n",
       "      <td>19.000000</td>\n",
       "    </tr>\n",
       "    <tr>\n",
       "      <th>25%</th>\n",
       "      <td>78.250000</td>\n",
       "      <td>31.750000</td>\n",
       "    </tr>\n",
       "    <tr>\n",
       "      <th>50%</th>\n",
       "      <td>155.500000</td>\n",
       "      <td>38.000000</td>\n",
       "    </tr>\n",
       "    <tr>\n",
       "      <th>75%</th>\n",
       "      <td>232.750000</td>\n",
       "      <td>48.000000</td>\n",
       "    </tr>\n",
       "    <tr>\n",
       "      <th>max</th>\n",
       "      <td>310.000000</td>\n",
       "      <td>85.000000</td>\n",
       "    </tr>\n",
       "  </tbody>\n",
       "</table>\n",
       "</div>"
      ],
      "text/plain": [
       "              No.         Age\n",
       "count  310.000000  160.000000\n",
       "mean   155.500000   40.356250\n",
       "std     89.633513   12.244545\n",
       "min      1.000000   19.000000\n",
       "25%     78.250000   31.750000\n",
       "50%    155.500000   38.000000\n",
       "75%    232.750000   48.000000\n",
       "max    310.000000   85.000000"
      ]
     },
     "execution_count": 8,
     "metadata": {},
     "output_type": "execute_result"
    }
   ],
   "source": [
    "#Math relation\n",
    "\n",
    "df.describe()"
   ]
  },
  {
   "cell_type": "code",
   "execution_count": 9,
   "metadata": {},
   "outputs": [
    {
     "data": {
      "text/plain": [
       "0"
      ]
     },
     "execution_count": 9,
     "metadata": {},
     "output_type": "execute_result"
    }
   ],
   "source": [
    "#check duplicate\n",
    "\n",
    "df.duplicated().sum()"
   ]
  },
  {
   "cell_type": "code",
   "execution_count": 10,
   "metadata": {},
   "outputs": [
    {
     "data": {
      "text/plain": [
       "No.    0.307964\n",
       "Age    1.000000\n",
       "Name: Age, dtype: float64"
      ]
     },
     "execution_count": 10,
     "metadata": {},
     "output_type": "execute_result"
    }
   ],
   "source": [
    "#Corr check\n",
    "df.corr()[\"Age\"]"
   ]
  },
  {
   "cell_type": "code",
   "execution_count": null,
   "metadata": {},
   "outputs": [],
   "source": []
  }
 ],
 "metadata": {
  "interpreter": {
   "hash": "adc72096d4dd5f5178129cf34d127cc8b4a1138a4324f648e54cc4b5a14cc05b"
  },
  "kernelspec": {
   "display_name": "Python 3.10.0 64-bit",
   "language": "python",
   "name": "python3"
  },
  "language_info": {
   "codemirror_mode": {
    "name": "ipython",
    "version": 3
   },
   "file_extension": ".py",
   "mimetype": "text/x-python",
   "name": "python",
   "nbconvert_exporter": "python",
   "pygments_lexer": "ipython3",
   "version": "3.10.0"
  },
  "orig_nbformat": 4
 },
 "nbformat": 4,
 "nbformat_minor": 2
}
